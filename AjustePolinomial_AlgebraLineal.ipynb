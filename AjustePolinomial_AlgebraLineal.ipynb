{
  "nbformat": 4,
  "nbformat_minor": 0,
  "metadata": {
    "colab": {
      "name": "AjustePolinomial-AlgebraLineal.ipynb",
      "provenance": [],
      "authorship_tag": "ABX9TyPrEDNIQFtz+plw9PkhYS3g",
      "include_colab_link": true
    },
    "kernelspec": {
      "name": "python3",
      "display_name": "Python 3"
    }
  },
  "cells": [
    {
      "cell_type": "markdown",
      "metadata": {
        "id": "view-in-github",
        "colab_type": "text"
      },
      "source": [
        "<a href=\"https://colab.research.google.com/github/UlisesGonzalezP/GoogleColab/blob/master/AjustePolinomial_AlgebraLineal.ipynb\" target=\"_parent\"><img src=\"https://colab.research.google.com/assets/colab-badge.svg\" alt=\"Open In Colab\"/></a>"
      ]
    },
    {
      "cell_type": "code",
      "metadata": {
        "id": "vqMYY8Rdo9Eb",
        "colab_type": "code",
        "colab": {
          "base_uri": "https://localhost:8080/",
          "height": 85
        },
        "outputId": "19e59082-c19d-4aa3-ccca-fbbf512b8f4f"
      },
      "source": [
        "#Algoritmo de aproximación polinomial de grado 3\n",
        "import numpy as np #Importa libreria numpy como np\n",
        "\n",
        "def polyfit2(x,y,n):#Define la función polyfit\n",
        "  def inv(A):\n",
        "    return np.linalg.inv(A)#Matriz inversa de la matriz A\n",
        "  def trans(A):\n",
        "    return A.getT()#Transpuesta de la matriz A\n",
        "  def prod(A,B):\n",
        "    return np.dot(A,B)#Producto punto entre los vectores A y B\n",
        "\n",
        "  xlen = len(x)#Calcula la longitud del vector x\n",
        "  ylen = len(y)#Calcula la longitud del vector y\n",
        "  one = np.ones((xlen,n+1),dtype=int)#Matriz de 1 de dimensiones (xlen,n+1)\n",
        "  c1=one[:,[1]]#Seleccionamos sólo la columna 1 de la matriz one \n",
        "  xT=np.matrix(x)#Convierte los datos a una matriz de numpy\n",
        "  yT=np.matrix(y)#Convierte los datos a una matriz de numpy\n",
        "  c2=xT.getT()#Seleccionamos la columna 2 de la matriz (x a la 1er potencia)\n",
        "  c3=np.power(c2,2)#Eleva al cuadrado los elementos de la matriz c2\n",
        "  c4=np.power(c2,3)#Eleva al cubo los elementos de la matriz c2\n",
        "  A=np.hstack([c1,c2,c3,c4])#Agrupa las columnas c1, c2, c3, c4 en una matriz A\n",
        "  ajuste = prod(prod(inv(prod(trans(A),A)),trans(A)),trans(yT))#La función prod realiza los productos de las matrices que recibe como argumentos\n",
        "  print(ajuste)\n",
        "\n",
        "x=[1.0,-2.0,3.0,4.0]#Datos extraidos del ejemplo 2 de la sección 6.2 del libro de Grossman Stanley \"Aplicaciones de álgebra lineal\", Iberoamérica, 1988\n",
        "y=[4.0,5.0,-1.0,1.0]\n",
        "\n",
        "polyfit2(x,y,2)#El resultado del mejor polinomio de ajuste es de grado 3 y es el polinomio y=0.32x^3 - 1.07x^2 - 2.37x +7.13"
      ],
      "execution_count": 44,
      "outputs": [
        {
          "output_type": "stream",
          "text": [
            "[[ 7.13333333]\n",
            " [-2.37777778]\n",
            " [-1.07777778]\n",
            " [ 0.32222222]]\n"
          ],
          "name": "stdout"
        }
      ]
    },
    {
      "cell_type": "code",
      "metadata": {
        "id": "m0pcvSQ2vLhv",
        "colab_type": "code",
        "colab": {
          "base_uri": "https://localhost:8080/",
          "height": 265
        },
        "outputId": "58102202-d01b-47e9-8afa-2b49f21dd107"
      },
      "source": [
        "#Algoritmo de ajuste polinomial automático por función.\n",
        "#Este modulo sirve para encontrar visualmente el grado de mejor ajuste polinomial a los datos dados.\n",
        "from sklearn.linear_model import LinearRegression #De linear_model de sklearn importamos LinearRegression\n",
        "from sklearn.preprocessing import PolynomialFeatures #De preprocessing importamos PolynomialFeatures\n",
        "import matplotlib.pyplot as plt #Importamos libreria matplotlib y asignamos a plt\n",
        "import pandas as pd #Importamos libreria pandas y asignamos a pd\n",
        "\n",
        "url = 'https://raw.githubusercontent.com/UlisesGonzalezP/GoogleColab/master/XyData.csv'#Importa los datos a utilizar desde github\n",
        "dataset = pd.read_csv(url) #Se almacenan dichos datos en la variable dataset\n",
        "\n",
        "X = dataset.iloc[:,:-1].values #Se selecciona la primer columna y se asigna en X\n",
        "y = dataset.iloc[:,1].values #Se selecciona la segunda columna y se asigna en y\n",
        "\n",
        "lin_reg = LinearRegression()#Se asigna a lin_reg la función LinearRegression\n",
        "poly_reg = PolynomialFeatures(degree=3)#Asigna el grado de un polinomio a poly_reg mediante PolynomialFeatures\n",
        "\n",
        "#Ajuste de la regresión polinomial al ajuste de datos en X, y\n",
        "X_poly = poly_reg.fit_transform(X)\n",
        "poly_reg.fit(X_poly,y)\n",
        "lin_reg.fit(X_poly,y)\n",
        "\n",
        "#Visualización de resultados de la regresión lineal\n",
        "plt.scatter(X,y)\n",
        "plt.plot(X,lin_reg.predict(poly_reg.fit_transform(X)))\n",
        "plt.show()\n",
        "#Visualmente se observo que el mejor grado de ajuste polinomial fue para el grado 3, debido a que toca todos los puntos de la recta, para grados superiores se observa el mismo resultado y para grados inferiores, toca menos puntos en la recta."
      ],
      "execution_count": 45,
      "outputs": [
        {
          "output_type": "display_data",
          "data": {
            "image/png": "[encoded data removed]",
            "text/plain": [
              "<Figure size 432x288 with 1 Axes>"
            ]
          },
          "metadata": {
            "tags": [],
            "needs_background": "light"
          }
        }
      ]
    }
  ]
}