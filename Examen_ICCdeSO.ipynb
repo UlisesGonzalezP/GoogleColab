{
  "nbformat": 4,
  "nbformat_minor": 0,
  "metadata": {
    "colab": {
      "name": "Examen ICCdeSO.ipynb",
      "provenance": [],
      "authorship_tag": "ABX9TyNW08zvKTTp8X+hy9ya5+qq",
      "include_colab_link": true
    },
    "kernelspec": {
      "name": "python3",
      "display_name": "Python 3"
    }
  },
  "cells": [
    {
      "cell_type": "markdown",
      "metadata": {
        "id": "view-in-github",
        "colab_type": "text"
      },
      "source": [
        "<a href=\"https://colab.research.google.com/github/UlisesGonzalezP/GoogleColab/blob/master/Examen_ICCdeSO.ipynb\" target=\"_parent\"><img src=\"https://colab.research.google.com/assets/colab-badge.svg\" alt=\"Open In Colab\"/></a>"
      ]
    },
    {
      "cell_type": "code",
      "metadata": {
        "id": "7YbqYkn0BgxM",
        "colab_type": "code",
        "colab": {
          "base_uri": "https://localhost:8080/",
          "height": 34
        },
        "outputId": "f885ed64-e3e0-44fa-8482-f62a063a6fcb"
      },
      "source": [
        "import pandas as pd#Libreria para exploración y manipulación de datos\n",
        "from sklearn.tree import DecisionTreeRegressor#Libreria para la creación del arbol de decisión\n",
        "from sklearn.metrics import mean_absolute_error#Libreria que permite calcular el error medio absoluto\n",
        "from sklearn.model_selection import train_test_split#Libreria para entrenar el modelo y validarlo\n",
        "\n",
        "url='https://raw.githubusercontent.com/UlisesGonzalezP/GoogleColab/master/sample_submission_.csv'#Importa los datos  utilizar desde github\n",
        "melbourne_data =pd.read_csv(url)\n",
        "melbourne_data.columns#Muestra todas las columnas del conjunto de datos"
      ],
      "execution_count": 20,
      "outputs": [
        {
          "output_type": "execute_result",
          "data": {
            "text/plain": [
              "Index(['LotArea', 'Price'], dtype='object')"
            ]
          },
          "metadata": {
            "tags": []
          },
          "execution_count": 20
        }
      ]
    },
    {
      "cell_type": "code",
      "metadata": {
        "id": "rVday_FPCF_G",
        "colab_type": "code",
        "colab": {
          "base_uri": "https://localhost:8080/",
          "height": 170
        },
        "outputId": "d22b6003-d254-4a83-b92a-e7e4a7ce5e3e"
      },
      "source": [
        "melbourne_data=melbourne_data.dropna(axis=0)#Elimina los valores faltantes (na=no disponible)\n",
        "y=melbourne_data.Price#Selecciona la columna a predecir, en este caso Price\n",
        "melbourne_features = ['LotArea']#Ingresamos las caracteristicas en la lista al modelo de predicción\n",
        "X = melbourne_data[melbourne_features]#Se almacenan los datos del modelo en X\n",
        "y.describe()#Se describe el módelo respecto a Price"
      ],
      "execution_count": 21,
      "outputs": [
        {
          "output_type": "execute_result",
          "data": {
            "text/plain": [
              "count        50.000000\n",
              "mean     171458.879550\n",
              "std       16322.151092\n",
              "min      145291.245000\n",
              "25%      158007.653425\n",
              "50%      172642.785850\n",
              "75%      185650.132900\n",
              "max      201740.620700\n",
              "Name: Price, dtype: float64"
            ]
          },
          "metadata": {
            "tags": []
          },
          "execution_count": 21
        }
      ]
    },
    {
      "cell_type": "code",
      "metadata": {
        "id": "pfWQ_quwC8xt",
        "colab_type": "code",
        "colab": {
          "base_uri": "https://localhost:8080/",
          "height": 170
        },
        "outputId": "2269ae5a-2952-4c58-ad1a-8aabde883508"
      },
      "source": [
        "melbourne_model = DecisionTreeRegressor(random_state=1)#Especifica un número para random_state para garantizar los mismos resultados en cada ejecución.\n",
        "melbourne_model.fit(X, y)#Modelo de ajuste\n",
        "print(\"Muestra las predicciones para los siguientes 5 datos:\")#Imrime en pantalla el texto\n",
        "print(X.head())#Imprime los datos de X sin repetir\n",
        "print(\"Las prediciones para Price en función del área son\")#Imprime en pantalla el texto\n",
        "print(melbourne_model.predict(X.head()))"
      ],
      "execution_count": 22,
      "outputs": [
        {
          "output_type": "stream",
          "text": [
            "Muestra las predicciones para los siguientes 5 datos:\n",
            "   LotArea\n",
            "0     8450\n",
            "1     9600\n",
            "2    11250\n",
            "3     9550\n",
            "4    14260\n",
            "Las prediciones para Price en función del área son\n",
            "[169277.0525 187758.394  183583.6836 179317.4775 150730.08  ]\n"
          ],
          "name": "stdout"
        }
      ]
    },
    {
      "cell_type": "code",
      "metadata": {
        "id": "GaCWU9IuV_9T",
        "colab_type": "code",
        "colab": {
          "base_uri": "https://localhost:8080/",
          "height": 34
        },
        "outputId": "b0a7f169-3fbb-4bda-c8f2-ee31cba9fc61"
      },
      "source": [
        "#Calcula el error medio absoluto en el primer entrenamiento y lo muestra\n",
        "predicted_prices = melbourne_model.predict(X)\n",
        "mean_absolute_error(y, predicted_prices)"
      ],
      "execution_count": 23,
      "outputs": [
        {
          "output_type": "execute_result",
          "data": {
            "text/plain": [
              "348.98532799999987"
            ]
          },
          "metadata": {
            "tags": []
          },
          "execution_count": 23
        }
      ]
    },
    {
      "cell_type": "code",
      "metadata": {
        "id": "5KlMGQfBEflr",
        "colab_type": "code",
        "colab": {
          "base_uri": "https://localhost:8080/",
          "height": 34
        },
        "outputId": "cdf0d9a1-072b-4d9a-f25c-67ec9780f30a"
      },
      "source": [
        "# divide los datos en datos de capacitación y validación, tanto para las funciones como para el objetivo\n",
        "# La división se basa en un generador de números aleatorios. Suministrar un valor numérico a\n",
        "# el argumento random_state garantiza que obtengamos la misma división cada vez que\n",
        "# ejecuta este script.\n",
        "train_X,val_X,train_y,val_y=train_test_split(X,y,random_state=0) \n",
        "melbourne_model=DecisionTreeRegressor()#Define el modelo\n",
        "melbourne_model.fit(train_X,train_y)#Modelo de ajuste\n",
        "val_predictions=melbourne_model.predict(val_X)#Obtiene precios predichos en los datos de validación\n",
        "print(mean_absolute_error(val_y,val_predictions))#Imprime el error medio absoluto entrenado y mejorado en comparación con la sección anterior\n",
        "\n",
        "#Examen realizado por Ulises Emiliano González Paz."
      ],
      "execution_count": 24,
      "outputs": [
        {
          "output_type": "stream",
          "text": [
            "20242.58890000001\n"
          ],
          "name": "stdout"
        }
      ]
    }
  ]
}