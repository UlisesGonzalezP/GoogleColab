{
  "nbformat": 4,
  "nbformat_minor": 0,
  "metadata": {
    "colab": {
      "name": "Examen ICCdeSO.ipynb",
      "provenance": [],
      "authorship_tag": "ABX9TyP/8rtiMk6kMuhAxeJrnnkd",
      "include_colab_link": true
    },
    "kernelspec": {
      "name": "python3",
      "display_name": "Python 3"
    }
  },
  "cells": [
    {
      "cell_type": "markdown",
      "metadata": {
        "id": "view-in-github",
        "colab_type": "text"
      },
      "source": [
        "<a href=\"https://colab.research.google.com/github/UlisesGonzalezP/GoogleColab/blob/master/Examen_ICCdeSO.ipynb\" target=\"_parent\"><img src=\"https://colab.research.google.com/assets/colab-badge.svg\" alt=\"Open In Colab\"/></a>"
      ]
    },
    {
      "cell_type": "code",
      "metadata": {
        "id": "7YbqYkn0BgxM",
        "colab_type": "code",
        "colab": {
          "base_uri": "https://localhost:8080/",
          "height": 34
        },
        "outputId": "d4c24ef0-ae62-435c-a498-bde2a03319fc"
      },
      "source": [
        "import pandas as pd#Libreria para exploración y manipulación de datos\n",
        "from sklearn.tree import DecisionTreeRegressor#Libreria para la creación del arbol de decisión\n",
        "from sklearn.metrics import mean_absolute_error#Libreria que permite calcular el error medio absoluto\n",
        "from sklearn.model_selection import train_test_split#Libreria para entrenar el modelo y validarlo\n",
        "\n",
        "url='https://raw.githubusercontent.com/UlisesGonzalezP/GoogleColab/master/sample_submission_.csv'#Importa los datos  utilizar desde github\n",
        "melbourne_data =pd.read_csv(url)\n",
        "melbourne_data.columns#Muestra todas las columnas del conjunto de datos"
      ],
      "execution_count": 1,
      "outputs": [
        {
          "output_type": "execute_result",
          "data": {
            "text/plain": [
              "Index(['LotArea', 'Price'], dtype='object')"
            ]
          },
          "metadata": {
            "tags": []
          },
          "execution_count": 1
        }
      ]
    },
    {
      "cell_type": "code",
      "metadata": {
        "id": "rVday_FPCF_G",
        "colab_type": "code",
        "colab": {
          "base_uri": "https://localhost:8080/",
          "height": 297
        },
        "outputId": "b43c1d24-aca9-4ad4-9404-343f8762850e"
      },
      "source": [
        "melbourne_data=melbourne_data.dropna(axis=0)#Elimina los valores faltantes (na=no disponible)\n",
        "y=melbourne_data.Price#Selecciona la columna a predecir, en este caso Price\n",
        "melbourne_features = ['LotArea', 'Price']#Ingresamos las caracteristicas en la lista al modelo de predicción\n",
        "X = melbourne_data[melbourne_features]#Se almacenan los datos del modelo en X\n",
        "X.describe()#Se describe el módelo"
      ],
      "execution_count": 2,
      "outputs": [
        {
          "output_type": "execute_result",
          "data": {
            "text/html": [
              "<div>\n",
              "<style scoped>\n",
              "    .dataframe tbody tr th:only-of-type {\n",
              "        vertical-align: middle;\n",
              "    }\n",
              "\n",
              "    .dataframe tbody tr th {\n",
              "        vertical-align: top;\n",
              "    }\n",
              "\n",
              "    .dataframe thead th {\n",
              "        text-align: right;\n",
              "    }\n",
              "</style>\n",
              "<table border=\"1\" class=\"dataframe\">\n",
              "  <thead>\n",
              "    <tr style=\"text-align: right;\">\n",
              "      <th></th>\n",
              "      <th>LotArea</th>\n",
              "      <th>Price</th>\n",
              "    </tr>\n",
              "  </thead>\n",
              "  <tbody>\n",
              "    <tr>\n",
              "      <th>count</th>\n",
              "      <td>50.000000</td>\n",
              "      <td>50.000000</td>\n",
              "    </tr>\n",
              "    <tr>\n",
              "      <th>mean</th>\n",
              "      <td>9922.440000</td>\n",
              "      <td>171458.879550</td>\n",
              "    </tr>\n",
              "    <tr>\n",
              "      <th>std</th>\n",
              "      <td>2886.474448</td>\n",
              "      <td>16322.151092</td>\n",
              "    </tr>\n",
              "    <tr>\n",
              "      <th>min</th>\n",
              "      <td>4224.000000</td>\n",
              "      <td>145291.245000</td>\n",
              "    </tr>\n",
              "    <tr>\n",
              "      <th>25%</th>\n",
              "      <td>7787.000000</td>\n",
              "      <td>158007.653425</td>\n",
              "    </tr>\n",
              "    <tr>\n",
              "      <th>50%</th>\n",
              "      <td>9671.000000</td>\n",
              "      <td>172642.785850</td>\n",
              "    </tr>\n",
              "    <tr>\n",
              "      <th>75%</th>\n",
              "      <td>11247.750000</td>\n",
              "      <td>185650.132900</td>\n",
              "    </tr>\n",
              "    <tr>\n",
              "      <th>max</th>\n",
              "      <td>16905.000000</td>\n",
              "      <td>201740.620700</td>\n",
              "    </tr>\n",
              "  </tbody>\n",
              "</table>\n",
              "</div>"
            ],
            "text/plain": [
              "            LotArea          Price\n",
              "count     50.000000      50.000000\n",
              "mean    9922.440000  171458.879550\n",
              "std     2886.474448   16322.151092\n",
              "min     4224.000000  145291.245000\n",
              "25%     7787.000000  158007.653425\n",
              "50%     9671.000000  172642.785850\n",
              "75%    11247.750000  185650.132900\n",
              "max    16905.000000  201740.620700"
            ]
          },
          "metadata": {
            "tags": []
          },
          "execution_count": 2
        }
      ]
    },
    {
      "cell_type": "code",
      "metadata": {
        "id": "pfWQ_quwC8xt",
        "colab_type": "code",
        "colab": {
          "base_uri": "https://localhost:8080/",
          "height": 170
        },
        "outputId": "861ba8da-11b9-4cb3-ae44-8f7d64392166"
      },
      "source": [
        "melbourne_model = DecisionTreeRegressor(random_state=1)#Especifica un número para random_state para garantizar los mismos resultados en cada ejecución.\n",
        "melbourne_model.fit(X, y)#Modelo de ajuste\n",
        "print(\"Muestra las predicciones para los siguientes 5 datos:\")#Imrime en pantalla el texto\n",
        "print(X.head())#Imprime los datos de X sin repetir\n",
        "print(\"Las prediciones son\")#Imprime en pantalla el texto\n",
        "print(melbourne_model.predict(X.head()))"
      ],
      "execution_count": 11,
      "outputs": [
        {
          "output_type": "stream",
          "text": [
            "Muestra las predicciones para los siguientes 5 datos:\n",
            "   LotArea        Price\n",
            "0     8450  169277.0525\n",
            "1     9600  187758.3940\n",
            "2    11250  183583.6836\n",
            "3     9550  179317.4775\n",
            "4    14260  150730.0800\n",
            "Las prediciones son\n",
            "[169277.0525 187758.394  183583.6836 179317.4775 150730.08  ]\n"
          ],
          "name": "stdout"
        }
      ]
    },
    {
      "cell_type": "code",
      "metadata": {
        "id": "5KlMGQfBEflr",
        "colab_type": "code",
        "colab": {
          "base_uri": "https://localhost:8080/",
          "height": 34
        },
        "outputId": "7658e913-64dd-43ad-888e-5fc596eb0ec5"
      },
      "source": [
        "# divide los datos en datos de capacitación y validación, tanto para las funciones como para el objetivo\n",
        "# La división se basa en un generador de números aleatorios. Suministrar un valor numérico a\n",
        "# el argumento random_state garantiza que obtengamos la misma división cada vez que\n",
        "# ejecuta este script.\n",
        "train_X,val_X,train_y,val_y=train_test_split(X,y,random_state=0) \n",
        "melbourne_model=DecisionTreeRegressor()#Define el modelo\n",
        "melbourne_model.fit(train_X,train_y)#Modelo de ajuste\n",
        "val_predictions=melbourne_model.predict(val_X)#Obtiene precios predichos en los datos de validación\n",
        "print(mean_absolute_error(val_y,val_predictions))#Imprime el error medio absoluto entrenado y mejorado en comparación con la sección anterior\n",
        "\n",
        "#Examen realizado por Ulises Emiliano González Paz."
      ],
      "execution_count": 9,
      "outputs": [
        {
          "output_type": "stream",
          "text": [
            "1884.4829769230766\n"
          ],
          "name": "stdout"
        }
      ]
    }
  ]
}