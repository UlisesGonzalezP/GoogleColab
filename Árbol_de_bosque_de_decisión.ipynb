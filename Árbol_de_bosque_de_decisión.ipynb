{
  "nbformat": 4,
  "nbformat_minor": 0,
  "metadata": {
    "colab": {
      "name": "Árbol de bosque de decisión.ipynb",
      "provenance": [],
      "authorship_tag": "ABX9TyO4Lhl7TgSbl7Lj8mbVdXXa",
      "include_colab_link": true
    },
    "kernelspec": {
      "name": "python3",
      "display_name": "Python 3"
    }
  },
  "cells": [
    {
      "cell_type": "markdown",
      "metadata": {
        "id": "view-in-github",
        "colab_type": "text"
      },
      "source": [
        "<a href=\"https://colab.research.google.com/github/UlisesGonzalezP/GoogleColab/blob/master/%C3%81rbol_de_bosque_de_decisi%C3%B3n.ipynb\" target=\"_parent\"><img src=\"https://colab.research.google.com/assets/colab-badge.svg\" alt=\"Open In Colab\"/></a>"
      ]
    },
    {
      "cell_type": "code",
      "metadata": {
        "id": "ciLUi5TXNbSU",
        "colab_type": "code",
        "colab": {}
      },
      "source": [
        "from sklearn.ensemble import RandomForestRegressor #Libreria para la creación del bosque de decisión\n",
        "from sklearn.metrics import mean_absolute_error #Libreria que permite calcular el error medio absoluto\n",
        "from sklearn.model_selection import train_test_split #Libreria para entrenar el modelo y validarlo\n",
        "import pandas as pd #Libreria para exploración y manipulación de datos"
      ],
      "execution_count": 1,
      "outputs": []
    },
    {
      "cell_type": "code",
      "metadata": {
        "id": "jgidfOZdSCzI",
        "colab_type": "code",
        "colab": {}
      },
      "source": [
        "url='https://raw.githubusercontent.com/UlisesGonzalezP/GoogleColab/master/melb_data.csv'#Importa los datos  utilizar desde github\n",
        "melbourne_data =pd.read_csv(url) #Carga los datos del archivo melb_data.csv en melbourne_data\n",
        "melbourne_data = melbourne_data.dropna(axis=0) #Elimina los valores faltantes (na=no disponible)\n",
        "y = melbourne_data.Price #Asigna la columna a predecir (Price a y)\n",
        "melbourne_features = ['Rooms','Bathroom','Landsize','Lattitude','Longtitude'] #Ingresamos las caracteristicas en la lista al modelo de predicción\n",
        "X = melbourne_data[melbourne_features]#Se almacenan los datos del modelo en X"
      ],
      "execution_count": 2,
      "outputs": []
    },
    {
      "cell_type": "code",
      "metadata": {
        "id": "8SWUBdfGSYl4",
        "colab_type": "code",
        "colab": {
          "base_uri": "https://localhost:8080/",
          "height": 34
        },
        "outputId": "76f4fe6d-0058-48fa-d4b3-132544a94de0"
      },
      "source": [
        "# divide los datos en datos de capacitación y validación, tanto para las funciones como para el objetivo\n",
        "# La división se basa en un generador de números aleatorios. Suministrar un valor numérico a\n",
        "# el argumento random_state garantiza que obtengamos la misma división cada vez que\n",
        "# ejecuta este script.\n",
        "train_X,val_X,train_y,val_y = train_test_split(X,y,random_state = 0)\n",
        "melbourne_model = RandomForestRegressor(random_state=1) #Define el modelo con el argumento random state en 1\n",
        "melbourne_model.fit(train_X,train_y) #Modelo de ajuste\n",
        "val_predictions = melbourne_model.predict(val_X) #Obtiene precios predichos en los datos de validación\n",
        "print(mean_absolute_error(val_y,val_predictions)) #Imprime el error medio absoluto"
      ],
      "execution_count": 3,
      "outputs": [
        {
          "output_type": "stream",
          "text": [
            "210016.0\n"
          ],
          "name": "stdout"
        }
      ]
    }
  ]
}